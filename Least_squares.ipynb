{
  "nbformat": 4,
  "nbformat_minor": 0,
  "metadata": {
    "colab": {
      "name": "Least_squares.ipynb",
      "provenance": [],
      "collapsed_sections": [],
      "include_colab_link": true
    },
    "kernelspec": {
      "name": "python3",
      "display_name": "Python 3"
    }
  },
  "cells": [
    {
      "cell_type": "markdown",
      "metadata": {
        "id": "view-in-github",
        "colab_type": "text"
      },
      "source": [
        "<a href=\"https://colab.research.google.com/github/haidoro/Least-squares/blob/master/Least_squares.ipynb\" target=\"_parent\"><img src=\"https://colab.research.google.com/assets/colab-badge.svg\" alt=\"Open In Colab\"/></a>"
      ]
    },
    {
      "cell_type": "markdown",
      "metadata": {
        "id": "V698hm17AOtQ",
        "colab_type": "text"
      },
      "source": [
        "# 最小二乗法について"
      ]
    },
    {
      "cell_type": "code",
      "metadata": {
        "id": "WrDSOwJVyRpW",
        "colab_type": "code",
        "colab": {}
      },
      "source": [
        "import pandas as pd\n",
        "import numpy as np\n",
        "import numpy.random as random\n",
        "import matplotlib.pyplot as plt"
      ],
      "execution_count": 0,
      "outputs": []
    },
    {
      "cell_type": "markdown",
      "metadata": {
        "id": "qfSzosz0_yfC",
        "colab_type": "text"
      },
      "source": [
        "## サンプルデータ\n",
        "4日間で植物がタネから成長した記録"
      ]
    },
    {
      "cell_type": "markdown",
      "metadata": {
        "id": "9zUKS-HxTBCV",
        "colab_type": "text"
      },
      "source": [
        "次のデータをサンプルとして使用。\n",
        "* 説明変数として日にちのデータ（date）x軸\n",
        "* 目的変数としてに値のデータ（value)　y軸"
      ]
    },
    {
      "cell_type": "code",
      "metadata": {
        "id": "Vo6OlOHhyo9e",
        "colab_type": "code",
        "outputId": "fcb8bb59-a9d9-41be-8b4d-fe4969cb2d7d",
        "colab": {
          "base_uri": "https://localhost:8080/",
          "height": 173
        }
      },
      "source": [
        "data = pd.DataFrame({'date':[1,2,3,4],'value':[0.8,1.9,2.8,4.1]})\n",
        "data"
      ],
      "execution_count": 0,
      "outputs": [
        {
          "output_type": "execute_result",
          "data": {
            "text/html": [
              "<div>\n",
              "<style scoped>\n",
              "    .dataframe tbody tr th:only-of-type {\n",
              "        vertical-align: middle;\n",
              "    }\n",
              "\n",
              "    .dataframe tbody tr th {\n",
              "        vertical-align: top;\n",
              "    }\n",
              "\n",
              "    .dataframe thead th {\n",
              "        text-align: right;\n",
              "    }\n",
              "</style>\n",
              "<table border=\"1\" class=\"dataframe\">\n",
              "  <thead>\n",
              "    <tr style=\"text-align: right;\">\n",
              "      <th></th>\n",
              "      <th>date</th>\n",
              "      <th>value</th>\n",
              "    </tr>\n",
              "  </thead>\n",
              "  <tbody>\n",
              "    <tr>\n",
              "      <th>0</th>\n",
              "      <td>1</td>\n",
              "      <td>0.8</td>\n",
              "    </tr>\n",
              "    <tr>\n",
              "      <th>1</th>\n",
              "      <td>2</td>\n",
              "      <td>1.9</td>\n",
              "    </tr>\n",
              "    <tr>\n",
              "      <th>2</th>\n",
              "      <td>3</td>\n",
              "      <td>2.8</td>\n",
              "    </tr>\n",
              "    <tr>\n",
              "      <th>3</th>\n",
              "      <td>4</td>\n",
              "      <td>4.1</td>\n",
              "    </tr>\n",
              "  </tbody>\n",
              "</table>\n",
              "</div>"
            ],
            "text/plain": [
              "   date  value\n",
              "0     1    0.8\n",
              "1     2    1.9\n",
              "2     3    2.8\n",
              "3     4    4.1"
            ]
          },
          "metadata": {
            "tags": []
          },
          "execution_count": 2
        }
      ]
    },
    {
      "cell_type": "markdown",
      "metadata": {
        "id": "Nn_mqWauAAMw",
        "colab_type": "text"
      },
      "source": [
        "### データを散布図でプロット"
      ]
    },
    {
      "cell_type": "code",
      "metadata": {
        "id": "GCLgFdxQzUqH",
        "colab_type": "code",
        "outputId": "cd3c577b-e859-491d-a0c4-6f9ef31dfa66",
        "colab": {
          "base_uri": "https://localhost:8080/",
          "height": 283
        }
      },
      "source": [
        "plt.plot(data['date'],data['value'],'o')"
      ],
      "execution_count": 0,
      "outputs": [
        {
          "output_type": "execute_result",
          "data": {
            "text/plain": [
              "[<matplotlib.lines.Line2D at 0x7f444e713518>]"
            ]
          },
          "metadata": {
            "tags": []
          },
          "execution_count": 3
        },
        {
          "output_type": "display_data",
          "data": {
            "image/png": "[encoded data removed]",
            "text/plain": [
              "<Figure size 432x288 with 1 Axes>"
            ]
          },
          "metadata": {
            "tags": []
          }
        }
      ]
    },
    {
      "cell_type": "markdown",
      "metadata": {
        "id": "TJPFXA9815in",
        "colab_type": "text"
      },
      "source": [
        "## 傾きから回帰直線を描く\n",
        "仮説で傾きを決める\n",
        "\n",
        "傾きは2日目から3日目の間に伸びた長さ0.9を1日の1で割った値"
      ]
    },
    {
      "cell_type": "code",
      "metadata": {
        "id": "TjyuhjRL0Kb4",
        "colab_type": "code",
        "outputId": "c2a23645-16da-439b-8c1a-dbf40d30e686",
        "colab": {
          "base_uri": "https://localhost:8080/",
          "height": 35
        }
      },
      "source": [
        "a = (data['value'][2] - data['value'][1]) / (data['date'][2] - data['date'][1])\n",
        "a"
      ],
      "execution_count": 0,
      "outputs": [
        {
          "output_type": "execute_result",
          "data": {
            "text/plain": [
              "0.8999999999999999"
            ]
          },
          "metadata": {
            "tags": []
          },
          "execution_count": 4
        }
      ]
    },
    {
      "cell_type": "markdown",
      "metadata": {
        "id": "CnYnTKHE1UUx",
        "colab_type": "text"
      },
      "source": [
        "切片は0として回帰係数（傾き）aは次のようになる。\n",
        "y = 0.9x"
      ]
    },
    {
      "cell_type": "code",
      "metadata": {
        "id": "PEBsI9jq1hWk",
        "colab_type": "code",
        "outputId": "15fdd3fe-3223-4951-fb2b-8641091fbd1a",
        "colab": {
          "base_uri": "https://localhost:8080/",
          "height": 283
        }
      },
      "source": [
        "plt.plot(data['date'],data['value'],'o')\n",
        "plt.plot(data['date'],data['date'] * 0.9, c='r')"
      ],
      "execution_count": 0,
      "outputs": [
        {
          "output_type": "execute_result",
          "data": {
            "text/plain": [
              "[<matplotlib.lines.Line2D at 0x7f444e1ef400>]"
            ]
          },
          "metadata": {
            "tags": []
          },
          "execution_count": 5
        },
        {
          "output_type": "display_data",
          "data": {
            "image/png": "[encoded data removed]",
            "text/plain": [
              "<Figure size 432x288 with 1 Axes>"
            ]
          },
          "metadata": {
            "tags": []
          }
        }
      ]
    },
    {
      "cell_type": "markdown",
      "metadata": {
        "id": "V_DItUmHtFQ7",
        "colab_type": "text"
      },
      "source": [
        "### 誤差を求める"
      ]
    },
    {
      "cell_type": "code",
      "metadata": {
        "id": "WQchERIo2HZG",
        "colab_type": "code",
        "outputId": "beb8c36c-b2c4-437b-bb83-d9ccac12c27b",
        "colab": {
          "base_uri": "https://localhost:8080/",
          "height": 107
        }
      },
      "source": [
        "variation = data['value'] - data['date'] * 0.9\n",
        "variation"
      ],
      "execution_count": 0,
      "outputs": [
        {
          "output_type": "execute_result",
          "data": {
            "text/plain": [
              "0   -0.1\n",
              "1    0.1\n",
              "2    0.1\n",
              "3    0.5\n",
              "dtype: float64"
            ]
          },
          "metadata": {
            "tags": []
          },
          "execution_count": 6
        }
      ]
    },
    {
      "cell_type": "markdown",
      "metadata": {
        "id": "Y3MlZql1BEjH",
        "colab_type": "text"
      },
      "source": [
        "誤差の合計"
      ]
    },
    {
      "cell_type": "code",
      "metadata": {
        "id": "ZW86Tiz03RVb",
        "colab_type": "code",
        "outputId": "40e2e5cb-3f6e-49b1-f4d6-de88c66abbac",
        "colab": {
          "base_uri": "https://localhost:8080/",
          "height": 125
        }
      },
      "source": [
        "print(variation**2)\n",
        "print(sum(variation**2))"
      ],
      "execution_count": 0,
      "outputs": [
        {
          "output_type": "stream",
          "text": [
            "0    0.01\n",
            "1    0.01\n",
            "2    0.01\n",
            "3    0.25\n",
            "dtype: float64\n",
            "0.27999999999999947\n"
          ],
          "name": "stdout"
        }
      ]
    },
    {
      "cell_type": "markdown",
      "metadata": {
        "id": "lmXfwgmcn2UK",
        "colab_type": "text"
      },
      "source": [
        "### 最小二乗法の公式\n",
        "\\begin{eqnarray}\n",
        "\\sum^n_{i=1}(y_i-f(x_i))^2\n",
        "\\end{eqnarray}"
      ]
    },
    {
      "cell_type": "markdown",
      "metadata": {
        "id": "cOwSbbAc3jYR",
        "colab_type": "text"
      },
      "source": [
        "ちなみに0の2乗は1"
      ]
    },
    {
      "cell_type": "markdown",
      "metadata": {
        "id": "5m678N4_6EvH",
        "colab_type": "text"
      },
      "source": [
        "### 実際のデータの値を最小二乗法にあてはめる\n",
        "$$\n",
        "J=(a−0.8)^2+(2a−1.9)^2+(3a−2.8)^2+(4a−4.1)^2 = 30a^2 - 58.8a + 28.9\n",
        "$$"
      ]
    },
    {
      "cell_type": "markdown",
      "metadata": {
        "id": "bQnF5-iNSafu",
        "colab_type": "text"
      },
      "source": [
        "## 最小誤差を求めるには微分を使う\n",
        "$J$ を$a$の関数として偏微分したものを0とすると次のようになる。\n",
        "$$\n",
        "f(x) = 30a^2 - 58.8a + 28.9\\\\\n",
        "f'(x)=60a -58.8 \\\\\n",
        "f'(x)=0\\\\\n",
        "a= 0.98\n",
        "$$"
      ]
    },
    {
      "cell_type": "markdown",
      "metadata": {
        "id": "0Ck7TtP9BuEV",
        "colab_type": "text"
      },
      "source": [
        "### 最小二乗法の公式をグラフ化\n",
        "x軸に並行な切片が引かれるところが誤差が最小になる。  \n",
        "最小二乗法の公式をグラフ化すると必ず下のような曲線を描く（2次方程式だから）  \n",
        "曲線のグラフになるものは微分が使える。\n",
        "\n",
        "x軸が0.9近辺だということがグラフからもわかる。\n",
        "\n",
        "切片を考慮すると偏微分を使う必要がある。\n",
        "$$\n",
        "\\frac{\\partial f}{\\partial x}(ax^2+axy+y^2)=2ax+ay\n",
        "$$\n",
        "\n",
        "$\\partial$はパーシャルやラウンドディーなどと読みます。\n"
      ]
    },
    {
      "cell_type": "code",
      "metadata": {
        "id": "iSI6-WhF6DLU",
        "colab_type": "code",
        "outputId": "293e500b-a0b2-46a1-807f-f903ae226876",
        "colab": {
          "base_uri": "https://localhost:8080/",
          "height": 285
        }
      },
      "source": [
        "a = np.arange(0,2,0.1)\n",
        "plt.plot(a,(30*𝑎**2) - (58.8*𝑎) + 28.9,'-')"
      ],
      "execution_count": 0,
      "outputs": [
        {
          "output_type": "execute_result",
          "data": {
            "text/plain": [
              "[<matplotlib.lines.Line2D at 0x7f444cee11d0>]"
            ]
          },
          "metadata": {
            "tags": []
          },
          "execution_count": 8
        },
        {
          "output_type": "display_data",
          "data": {
            "image/png": "[encoded data removed]",
            "text/plain": [
              "<Figure size 432x288 with 1 Axes>"
            ]
          },
          "metadata": {
            "tags": []
          }
        }
      ]
    },
    {
      "cell_type": "markdown",
      "metadata": {
        "id": "TuQnXrtXEwgd",
        "colab_type": "text"
      },
      "source": [
        "### 算出した傾きを使ってみる"
      ]
    },
    {
      "cell_type": "code",
      "metadata": {
        "id": "pHANFTPKGa0i",
        "colab_type": "code",
        "outputId": "42b258a6-4bad-4f16-d84e-39f3c106065d",
        "colab": {
          "base_uri": "https://localhost:8080/",
          "height": 107
        }
      },
      "source": [
        "variation = data['value'] - data['date'] * 0.98\n",
        "variation"
      ],
      "execution_count": 0,
      "outputs": [
        {
          "output_type": "execute_result",
          "data": {
            "text/plain": [
              "0   -0.18\n",
              "1   -0.06\n",
              "2   -0.14\n",
              "3    0.18\n",
              "dtype: float64"
            ]
          },
          "metadata": {
            "tags": []
          },
          "execution_count": 9
        }
      ]
    },
    {
      "cell_type": "markdown",
      "metadata": {
        "id": "AaVUOSZCE2Uo",
        "colab_type": "text"
      },
      "source": [
        "誤差の合計"
      ]
    },
    {
      "cell_type": "code",
      "metadata": {
        "id": "x946P5rSxNp-",
        "colab_type": "code",
        "outputId": "e42027af-c7c3-4093-9211-2802cd2323f5",
        "colab": {
          "base_uri": "https://localhost:8080/",
          "height": 35
        }
      },
      "source": [
        "sum(variation**2)"
      ],
      "execution_count": 0,
      "outputs": [
        {
          "output_type": "execute_result",
          "data": {
            "text/plain": [
              "0.08799999999999991"
            ]
          },
          "metadata": {
            "tags": []
          },
          "execution_count": 10
        }
      ]
    },
    {
      "cell_type": "markdown",
      "metadata": {
        "id": "QdYtp5nJE6jg",
        "colab_type": "text"
      },
      "source": [
        "#### グラフ化"
      ]
    },
    {
      "cell_type": "code",
      "metadata": {
        "id": "QobjEde6Gm8J",
        "colab_type": "code",
        "outputId": "b961d70d-34d1-4d0f-db1e-a6dc062e9670",
        "colab": {
          "base_uri": "https://localhost:8080/",
          "height": 283
        }
      },
      "source": [
        "plt.plot(data['date'],data['value'],'o')\n",
        "plt.plot(data['date'],data['date'] * 0.98, c='r')"
      ],
      "execution_count": 0,
      "outputs": [
        {
          "output_type": "execute_result",
          "data": {
            "text/plain": [
              "[<matplotlib.lines.Line2D at 0x7f444cec1be0>]"
            ]
          },
          "metadata": {
            "tags": []
          },
          "execution_count": 11
        },
        {
          "output_type": "display_data",
          "data": {
            "image/png": "[encoded data removed]",
            "text/plain": [
              "<Figure size 432x288 with 1 Axes>"
            ]
          },
          "metadata": {
            "tags": []
          }
        }
      ]
    },
    {
      "cell_type": "markdown",
      "metadata": {
        "id": "ZoRbbIofE9u2",
        "colab_type": "text"
      },
      "source": [
        "## Scikit-learnで正確な傾きと切片を算出"
      ]
    },
    {
      "cell_type": "code",
      "metadata": {
        "id": "oaIQPa8_HpEW",
        "colab_type": "code",
        "outputId": "f3b12c88-e413-4c78-ee52-3a8c8fd677b0",
        "colab": {
          "base_uri": "https://localhost:8080/",
          "height": 53
        }
      },
      "source": [
        "from sklearn import linear_model\n",
        "reg = linear_model.LinearRegression()\n",
        "reg.fit(data[['date']].values,data['value'].values)\n",
        "print('回帰係数:', reg.coef_)\n",
        "print('切片:', reg.intercept_)"
      ],
      "execution_count": 0,
      "outputs": [
        {
          "output_type": "stream",
          "text": [
            "回帰係数: [1.08]\n",
            "切片: -0.30000000000000027\n"
          ],
          "name": "stdout"
        }
      ]
    },
    {
      "cell_type": "markdown",
      "metadata": {
        "id": "JWe2dpnpFFTk",
        "colab_type": "text"
      },
      "source": [
        "グラフ化"
      ]
    },
    {
      "cell_type": "code",
      "metadata": {
        "id": "taTRnYdPI8j5",
        "colab_type": "code",
        "outputId": "390f7be9-94e3-43a1-9051-6dc3c595a1ee",
        "colab": {
          "base_uri": "https://localhost:8080/",
          "height": 283
        }
      },
      "source": [
        "plt.plot(data['date'],data['value'],'o')\n",
        "plt.plot(data[['date']], reg.predict(data[['date']]),'r-')"
      ],
      "execution_count": 0,
      "outputs": [
        {
          "output_type": "execute_result",
          "data": {
            "text/plain": [
              "[<matplotlib.lines.Line2D at 0x7f443c592ba8>]"
            ]
          },
          "metadata": {
            "tags": []
          },
          "execution_count": 13
        },
        {
          "output_type": "display_data",
          "data": {
            "image/png": "[encoded data removed]",
            "text/plain": [
              "<Figure size 432x288 with 1 Axes>"
            ]
          },
          "metadata": {
            "tags": []
          }
        }
      ]
    }
  ]
}